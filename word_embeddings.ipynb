{
  "nbformat": 4,
  "nbformat_minor": 0,
  "metadata": {
    "colab": {
      "provenance": [],
      "include_colab_link": true
    },
    "kernelspec": {
      "name": "python3",
      "display_name": "Python 3"
    }
  },
  "cells": [
    {
      "cell_type": "markdown",
      "metadata": {
        "id": "view-in-github",
        "colab_type": "text"
      },
      "source": [
        "<a href=\"https://colab.research.google.com/github/mustafabozkaya/NLP_Notebooks/blob/master/word_embeddings.ipynb\" target=\"_parent\"><img src=\"https://colab.research.google.com/assets/colab-badge.svg\" alt=\"Open In Colab\"/></a>"
      ]
    },
    {
      "cell_type": "markdown",
      "metadata": {
        "id": "ZYwcIXq4t7cg"
      },
      "source": [
        "#Word embeddings in 2020. Review with code  examples\n",
        "\n",
        "by [Rostyslav Neskorozhenyi](https://www.linkedin.com/in/slanj)"
      ]
    },
    {
      "cell_type": "markdown",
      "metadata": {
        "id": "uabj5jkUt_hK"
      },
      "source": [
        "In this article we will study word embeddings - digital representation of words suitable for processing by machine learning algorithms.\n",
        "\n",
        "Originally I created this article as a general overview and compilation of current approaches to word embeddings in 2020, which our [AI Labs](http://ai-labs.org/) team could use from time to time as a quick refresher. I hope that my article will be useful to a wider circle of data scientists and developers. Each word embedding method in the article has a (very) short description, links for further study, and code examples in Python. All code is packed as [Google Colab Notebook](https://colab.research.google.com/drive/1N7HELWImK9xCYheyozVP3C_McbiRo1nb). So let's begin.\n",
        "\n",
        "According to Wikipedia, **Word embedding** is the collective name for a set of language modeling and feature learning techniques in natural language processing (NLP) where words or phrases from the vocabulary are mapped to vectors of real numbers."
      ]
    },
    {
      "cell_type": "markdown",
      "metadata": {
        "id": "knWTPeFGvCVr"
      },
      "source": [
        "## One-hot or CountVectorizing\n",
        "\n",
        "The most basic method for transforming words into vectors is to count occurrence of each word in each document. Such approach is called countvectorizing or one-hot encoding.\n",
        "\n",
        "The main principle of this method is to collect a set of documents (they can be words, sentences, paragraphs or even articles) and count the occurrence of every word in each document. Strictly speaking, the columns of the resulting matrix are words and the rows are documents."
      ]
    },
    {
      "cell_type": "code",
      "metadata": {
        "id": "CqL-rowBt3FB"
      },
      "source": [
        "from sklearn.feature_extraction.text import CountVectorizer\n",
        "# create CountVectorizer object\n",
        "vectorizer = CountVectorizer(binary=False)\n",
        "corpus = [\n",
        "          'A Text of the very first new sentence with the first words in sentence.',\n",
        "          'Text of the second sentence.',\n",
        "          'Number three with lot of words words words.',\n",
        "          'Short text, less words.',\n",
        "]"
      ],
      "execution_count": 1,
      "outputs": []
    },
    {
      "cell_type": "code",
      "metadata": {
        "id": "0nz67PMDv4-1",
        "colab": {
          "base_uri": "https://localhost:8080/"
        },
        "outputId": "353689aa-0361-426e-d58a-f61d8c5582e7"
      },
      "source": [
        "corpus"
      ],
      "execution_count": 2,
      "outputs": [
        {
          "output_type": "execute_result",
          "data": {
            "text/plain": [
              "['A Text of the very first new sentence with the first words in sentence.',\n",
              " 'Text of the second sentence.',\n",
              " 'Number three with lot of words words words.',\n",
              " 'Short text, less words.']"
            ]
          },
          "metadata": {},
          "execution_count": 2
        }
      ]
    },
    {
      "cell_type": "code",
      "metadata": {
        "id": "jp5Ylyahv-Sx",
        "colab": {
          "base_uri": "https://localhost:8080/"
        },
        "outputId": "48bd9ce0-db29-44cb-8217-26be66608973"
      },
      "source": [
        "# learn the vocabulary and store CountVectorizer sparse matrix in term_frequencies\n",
        "term_frequencies = vectorizer.fit_transform(corpus) #\n",
        "vocab = vectorizer.get_feature_names_out()\n",
        "vocab"
      ],
      "execution_count": 3,
      "outputs": [
        {
          "output_type": "execute_result",
          "data": {
            "text/plain": [
              "array(['first', 'in', 'less', 'lot', 'new', 'number', 'of', 'second',\n",
              "       'sentence', 'short', 'text', 'the', 'three', 'very', 'with',\n",
              "       'words'], dtype=object)"
            ]
          },
          "metadata": {},
          "execution_count": 3
        }
      ]
    },
    {
      "cell_type": "code",
      "source": [
        "term_frequencies"
      ],
      "metadata": {
        "id": "ncrvRg0K5FNi",
        "outputId": "4490312e-2999-4534-9449-e22bf11faf6d",
        "colab": {
          "base_uri": "https://localhost:8080/"
        }
      },
      "execution_count": 4,
      "outputs": [
        {
          "output_type": "execute_result",
          "data": {
            "text/plain": [
              "<4x16 sparse matrix of type '<class 'numpy.int64'>'\n",
              "\twith 25 stored elements in Compressed Sparse Row format>"
            ]
          },
          "metadata": {},
          "execution_count": 4
        }
      ]
    },
    {
      "cell_type": "code",
      "metadata": {
        "id": "n9Wzj12tFU4-",
        "colab": {
          "base_uri": "https://localhost:8080/"
        },
        "outputId": "1d04a3e8-9025-4a5d-d26b-7bdeb60215ec"
      },
      "source": [
        "term_frequencies = term_frequencies.toarray() # convert sparse matrix to numpy array\n",
        "term_frequencies"
      ],
      "execution_count": 5,
      "outputs": [
        {
          "output_type": "execute_result",
          "data": {
            "text/plain": [
              "array([[2, 1, 0, 0, 1, 0, 1, 0, 2, 0, 1, 2, 0, 1, 1, 1],\n",
              "       [0, 0, 0, 0, 0, 0, 1, 1, 1, 0, 1, 1, 0, 0, 0, 0],\n",
              "       [0, 0, 0, 1, 0, 1, 1, 0, 0, 0, 0, 0, 1, 0, 1, 3],\n",
              "       [0, 0, 1, 0, 0, 0, 0, 0, 0, 1, 1, 0, 0, 0, 0, 1]])"
            ]
          },
          "metadata": {},
          "execution_count": 5
        }
      ]
    },
    {
      "cell_type": "code",
      "metadata": {
        "id": "7AMSth6SJ-VL",
        "colab": {
          "base_uri": "https://localhost:8080/",
          "height": 479
        },
        "outputId": "76b913c4-c5c7-4c3f-ae2f-a6d69157b95f"
      },
      "source": [
        "import seaborn as sns\n",
        "sns.heatmap(term_frequencies, annot=True, cbar = False, xticklabels = vocab);"
      ],
      "execution_count": 6,
      "outputs": [
        {
          "output_type": "display_data",
          "data": {
            "text/plain": [
              "<Figure size 640x480 with 1 Axes>"
            ],
            "image/png": "[encoded data removed]"
          },
          "metadata": {}
        }
      ]
    },
    {
      "cell_type": "code",
      "metadata": {
        "id": "5swG8_LdwPEN",
        "colab": {
          "base_uri": "https://localhost:8080/"
        },
        "outputId": "be570220-a27e-409f-9bf2-0f623eb5802c"
      },
      "source": [
        "# Convert another document with countvectorizing\n",
        "vectorizer.transform(['A new new sentence.']).toarray()"
      ],
      "execution_count": 7,
      "outputs": [
        {
          "output_type": "execute_result",
          "data": {
            "text/plain": [
              "array([[0, 0, 0, 0, 2, 0, 0, 0, 1, 0, 0, 0, 0, 0, 0, 0]])"
            ]
          },
          "metadata": {},
          "execution_count": 7
        }
      ]
    },
    {
      "cell_type": "markdown",
      "source": [
        "## one-hot encoding"
      ],
      "metadata": {
        "id": "A2Z_5B4p7VU4"
      }
    },
    {
      "cell_type": "markdown",
      "metadata": {
        "id": "CKO-WI3IEuaR"
      },
      "source": [
        "Another approach in countvectorizing is just to place 1 if the word is found in the document (no matter how often) and 0 if the word is not found in the document. In this case we get real 'one-hot' encoding."
      ]
    },
    {
      "cell_type": "code",
      "metadata": {
        "id": "Cd8wwfuWED1w",
        "colab": {
          "base_uri": "https://localhost:8080/"
        },
        "outputId": "6df1eb7a-07a7-4af8-c7df-ae552546c1f0"
      },
      "source": [
        "one_hot_vectorizer = CountVectorizer(binary=True) # binary means 1 or 0\n",
        "one_hot = one_hot_vectorizer.fit_transform(corpus)\n",
        "one_hot"
      ],
      "execution_count": 8,
      "outputs": [
        {
          "output_type": "execute_result",
          "data": {
            "text/plain": [
              "<4x16 sparse matrix of type '<class 'numpy.int64'>'\n",
              "\twith 25 stored elements in Compressed Sparse Row format>"
            ]
          },
          "metadata": {},
          "execution_count": 8
        }
      ]
    },
    {
      "cell_type": "code",
      "source": [
        "one_hot.shape"
      ],
      "metadata": {
        "id": "rC7Fica2_u4H",
        "outputId": "8c93ef60-2ccd-4b23-9439-684603912e5f",
        "colab": {
          "base_uri": "https://localhost:8080/"
        }
      },
      "execution_count": 9,
      "outputs": [
        {
          "output_type": "execute_result",
          "data": {
            "text/plain": [
              "(4, 16)"
            ]
          },
          "metadata": {},
          "execution_count": 9
        }
      ]
    },
    {
      "cell_type": "code",
      "source": [
        "one_hot = one_hot.toarray() # convert sparse matrix to numpy array\n",
        "one_hot"
      ],
      "metadata": {
        "id": "-QxsEGr777KJ",
        "outputId": "f4f402c8-7caa-4c47-be2f-49bad818d896",
        "colab": {
          "base_uri": "https://localhost:8080/"
        }
      },
      "execution_count": 10,
      "outputs": [
        {
          "output_type": "execute_result",
          "data": {
            "text/plain": [
              "array([[1, 1, 0, 0, 1, 0, 1, 0, 1, 0, 1, 1, 0, 1, 1, 1],\n",
              "       [0, 0, 0, 0, 0, 0, 1, 1, 1, 0, 1, 1, 0, 0, 0, 0],\n",
              "       [0, 0, 0, 1, 0, 1, 1, 0, 0, 0, 0, 0, 1, 0, 1, 1],\n",
              "       [0, 0, 1, 0, 0, 0, 0, 0, 0, 1, 1, 0, 0, 0, 0, 1]])"
            ]
          },
          "metadata": {},
          "execution_count": 10
        }
      ]
    },
    {
      "cell_type": "code",
      "metadata": {
        "id": "HMr0ixndJlL7",
        "colab": {
          "base_uri": "https://localhost:8080/",
          "height": 496
        },
        "outputId": "2e6c7832-67d9-4da3-ac9d-b2432fc9d040"
      },
      "source": [
        "sns.heatmap(one_hot, annot=True, cbar = False, xticklabels = vocab)"
      ],
      "execution_count": 11,
      "outputs": [
        {
          "output_type": "execute_result",
          "data": {
            "text/plain": [
              "<Axes: >"
            ]
          },
          "metadata": {},
          "execution_count": 11
        },
        {
          "output_type": "display_data",
          "data": {
            "text/plain": [
              "<Figure size 640x480 with 1 Axes>"
            ],
            "image/png": "[encoded data removed]"
          },
          "metadata": {}
        }
      ]
    },
    {
      "cell_type": "markdown",
      "metadata": {
        "id": "5yiZ6Ua4w5u2"
      },
      "source": [
        "## TF-IDF encoding\n",
        "\n",
        "With a large corpus of documents some words like ‘a’, ‘the’, ‘is’, etc. occur very frequently but they don’t carry a lot of information. Using one-hot encoding approach we can decide that these words are important because they appear in many documents. One of the ways to solve this problem is stopwords filtering, but this solution is discrete and not flexible.\n",
        "\n",
        "TF-IDF (term frequency - inverse document frequency) can deal with this problem better. TF-IDF lowers the weight of commonly used words and raises the weight of rare words that occur only in current document. TF-IDF formula looks like this:\n",
        "<br><br>\n",
        "\n",
        "$tfidf(term, document)= tf(term, document) \\cdot idf(term)$\n",
        "\n",
        "<br>\n",
        "Where TF is calculated by dividing number of times the word occurs in the document by the total number of words in the document\n",
        "\n",
        "$tf(term, document)= \\frac{n_i}{\\sum_{k=1}^W n_k}$\n",
        "\n",
        "IDF (inverse document frequency), interpreted like inversed number of documents, in which the term we’re interested in occurs. N - number of documents, n(t) - number of documents with current word or term t.\n",
        "\n",
        "\n",
        "$idf(term) = \\log {\\frac{N}{n_t}} $\n",
        "\n",
        "\n"
      ]
    },
    {
      "cell_type": "code",
      "metadata": {
        "id": "pRF9_B5lwURy"
      },
      "source": [
        "from sklearn.feature_extraction.text import TfidfVectorizer\n",
        "import seaborn as sns\n",
        "\n",
        "corpus = [\n",
        "          'Time flies like an arrow.',\n",
        "          'Fruit flies like a banana.'\n",
        "]\n",
        "\n",
        "vocab = ['an', 'arrow', 'banana', 'flies', 'fruit', 'like', 'time']"
      ],
      "execution_count": 12,
      "outputs": []
    },
    {
      "cell_type": "code",
      "metadata": {
        "id": "uckXLvR0DKIm",
        "colab": {
          "base_uri": "https://localhost:8080/"
        },
        "outputId": "9507b813-d04a-407a-db83-3986ad1ab828"
      },
      "source": [
        "tfidf_vectorizer = TfidfVectorizer() #Convert a collection of raw documents to a matrix of TF-IDF features.\n",
        "tfidf = tfidf_vectorizer.fit_transform(corpus) # X : sparse matrix of (n_samples, n_features) ,Tf-idf-weighted document-term matrix.\n",
        "tfidf"
      ],
      "execution_count": 13,
      "outputs": [
        {
          "output_type": "execute_result",
          "data": {
            "text/plain": [
              "<2x7 sparse matrix of type '<class 'numpy.float64'>'\n",
              "\twith 9 stored elements in Compressed Sparse Row format>"
            ]
          },
          "metadata": {},
          "execution_count": 13
        }
      ]
    },
    {
      "cell_type": "code",
      "source": [
        "tfidf.shape"
      ],
      "metadata": {
        "id": "rO8mtmCAAhNG",
        "outputId": "e2a37eab-24c4-49ff-ca42-a70b1bd97eb9",
        "colab": {
          "base_uri": "https://localhost:8080/"
        }
      },
      "execution_count": 14,
      "outputs": [
        {
          "output_type": "execute_result",
          "data": {
            "text/plain": [
              "(2, 7)"
            ]
          },
          "metadata": {},
          "execution_count": 14
        }
      ]
    },
    {
      "cell_type": "code",
      "source": [
        "tfidf = tfidf_vectorizer.fit_transform(corpus).toarray() # convert tf-idf weighted documents term sparse matrix to numpy array\n",
        "tfidf"
      ],
      "metadata": {
        "id": "uuKdikPB__pE",
        "outputId": "df4ac562-01c7-41df-df03-0935ce6a892b",
        "colab": {
          "base_uri": "https://localhost:8080/"
        }
      },
      "execution_count": 15,
      "outputs": [
        {
          "output_type": "execute_result",
          "data": {
            "text/plain": [
              "array([[0.49922133, 0.49922133, 0.        , 0.35520009, 0.        ,\n",
              "        0.35520009, 0.49922133],\n",
              "       [0.        , 0.        , 0.57615236, 0.40993715, 0.57615236,\n",
              "        0.40993715, 0.        ]])"
            ]
          },
          "metadata": {},
          "execution_count": 15
        }
      ]
    },
    {
      "cell_type": "code",
      "metadata": {
        "id": "rI8h6WGCDgY_",
        "colab": {
          "base_uri": "https://localhost:8080/",
          "height": 447
        },
        "outputId": "6ab71708-78f2-4f08-9689-7343d64833fb"
      },
      "source": [
        "sns.heatmap(tfidf, annot=True, cbar = False, xticklabels = vocab)"
      ],
      "execution_count": 16,
      "outputs": [
        {
          "output_type": "execute_result",
          "data": {
            "text/plain": [
              "<Axes: >"
            ]
          },
          "metadata": {},
          "execution_count": 16
        },
        {
          "output_type": "display_data",
          "data": {
            "text/plain": [
              "<Figure size 640x480 with 1 Axes>"
            ],
            "image/png": "[encoded data removed]"
          },
          "metadata": {}
        }
      ]
    },
    {
      "cell_type": "markdown",
      "metadata": {
        "id": "P8IxcZQGTGb6"
      },
      "source": [
        "## Word2Vec and GloVe"
      ]
    },
    {
      "cell_type": "markdown",
      "metadata": {
        "id": "pHdtizR4T1d_"
      },
      "source": [
        "The most commonly used models for word embeddings are [word2vec](https://github.com/dav/word2vec/) and [GloVe](https://nlp.stanford.edu/projects/glove/) which are both unsupervised approaches based on the distributional hypothesis (words that occur in the same contexts tend to have similar meanings).\n",
        "\n",
        "Word2Vec word embeddings are vector representations of words,\n",
        "that are typically learnt by an unsupervised model when fed\n",
        "with large amounts of text as input (e.g. Wikipedia, science, news, articles etc.). These representation of words capture semantic similarity between words among other properties. Word2Vec word embeddings are learnt in a such way, that [distance](https://en.wikipedia.org/wiki/Euclidean_distance) between vectors for words with close meanings (\"king\" and \"queen\" for example) are closer than distance for words with complety different meanings (\"king\" and \"carpet\" for example).\n",
        "\n",
        "![Замещающий текст](https://developers.google.com/machine-learning/crash-course/images/linear-relationships.svg)\n",
        "Image from [developers.google.com](https://developers.google.com/machine-learning/crash-course/embeddings/translating-to-a-lower-dimensional-space)\n",
        "\n",
        "Word2Vec vectors even allow some mathematic operations on vectors. For example, in this operation we are using word2vec vectors for each word:\n",
        "\n",
        "**king - man + woman = queen**"
      ]
    },
    {
      "cell_type": "code",
      "metadata": {
        "id": "dfo-brEm-STg",
        "colab": {
          "base_uri": "https://localhost:8080/"
        },
        "outputId": "9742d899-8b59-4589-c98b-3ce6fed71998"
      },
      "source": [
        "# Download Google Word2Vec embeddings https://code.google.com/archive/p/word2vec/\n",
        "# got o Pre-trained word and phrase vectors part\n",
        "!wget https://drive.google.com/open?id=0B7XkCwpI5KDYNlNUTTlSS21pQmM&authuser=0\n",
        "!gunzip GoogleNews-vectors-negative300.bin"
      ],
      "execution_count": 19,
      "outputs": [
        {
          "output_type": "stream",
          "name": "stdout",
          "text": [
            "--2023-06-30 09:05:46--  https://drive.google.com/open?id=0B7XkCwpI5KDYNlNUTTlSS21pQmM\n",
            "Resolving drive.google.com (drive.google.com)... 108.177.126.101, 108.177.126.102, 108.177.126.138, ...\n",
            "Connecting to drive.google.com (drive.google.com)|108.177.126.101|:443... connected.\n",
            "HTTP request sent, awaiting response... 307 Temporary Redirect\n",
            "Location: https://drive.google.com/file/d/0B7XkCwpI5KDYNlNUTTlSS21pQmM/view?usp=drive_open [following]\n",
            "--2023-06-30 09:05:47--  https://drive.google.com/file/d/0B7XkCwpI5KDYNlNUTTlSS21pQmM/view?usp=drive_open\n",
            "Reusing existing connection to drive.google.com:443.\n",
            "HTTP request sent, awaiting response... 200 OK\n",
            "Length: unspecified [text/html]\n",
            "Saving to: ‘open?id=0B7XkCwpI5KDYNlNUTTlSS21pQmM’\n",
            "\n",
            "open?id=0B7XkCwpI5K     [ <=>                ]  78.15K  --.-KB/s    in 0.01s   \n",
            "\n",
            "2023-06-30 09:05:49 (6.64 MB/s) - ‘open?id=0B7XkCwpI5KDYNlNUTTlSS21pQmM’ saved [80027]\n",
            "\n",
            "gzip: GoogleNews-vectors-negative300.bin.gz: No such file or directory\n"
          ]
        }
      ]
    },
    {
      "cell_type": "code",
      "metadata": {
        "id": "AZ_HeKRI9_7l"
      },
      "source": [
        "# Try Word2Vec with Gensim\n",
        "\n",
        "import gensim\n",
        "\n",
        "# Load pretrained vectors from Google\n",
        "model = gensim.models.KeyedVectors.load_word2vec_format('GoogleNews-vectors-negative300.bin', binary=True)"
      ],
      "execution_count": null,
      "outputs": []
    },
    {
      "cell_type": "code",
      "metadata": {
        "id": "bT-yiT9L_c7b"
      },
      "source": [
        "king = model['king']\n",
        "print(king.shape)\n",
        "print(king[:10])"
      ],
      "execution_count": null,
      "outputs": []
    },
    {
      "cell_type": "code",
      "metadata": {
        "id": "JBznpSDbAAJx"
      },
      "source": [
        "# king - man + woman = queen\n",
        "print(model.most_similar(positive=['woman', 'king'], negative=['man'])[:3])"
      ],
      "execution_count": null,
      "outputs": []
    },
    {
      "cell_type": "code",
      "metadata": {
        "id": "3ckykNCjA-UP"
      },
      "source": [
        "print(model.doesnt_match(\"breakfast robot dinner lunch\".split()))"
      ],
      "execution_count": null,
      "outputs": []
    },
    {
      "cell_type": "code",
      "metadata": {
        "id": "Pb121-XFBBc9"
      },
      "source": [
        "print(model.similarity('woman', 'man'))"
      ],
      "execution_count": null,
      "outputs": []
    },
    {
      "cell_type": "code",
      "metadata": {
        "id": "YVL0I1qBBDcg"
      },
      "source": [
        "print(model.similarity('king', 'woman'))"
      ],
      "execution_count": null,
      "outputs": []
    },
    {
      "cell_type": "markdown",
      "metadata": {
        "id": "NEFSugKAFXeB"
      },
      "source": [
        "Another word embedding method is **Glove** (“Global Vectors”). It is based on matrix factorization techniques on the word-context matrix. It first constructs a large matrix of (words x context) co-occurrence information, i.e. for each “word” (the rows), you count how frequently we see this word in some “context” (the columns) in a large corpus. Then this matrix is factorized to a lower-dimensional (word x features) matrix, where each row now stores a vector representation for each word. In general, this is done by minimizing a “reconstruction loss”. This loss tries to find the lower-dimensional representations which can explain most of the variance in the high-dimensional data."
      ]
    },
    {
      "cell_type": "code",
      "metadata": {
        "id": "27udJLwcbVLv",
        "colab": {
          "base_uri": "https://localhost:8080/"
        },
        "outputId": "5b59adb8-86b0-464b-c9c3-5498e738131b"
      },
      "source": [
        "# Try Glove word embeddings with Spacy\n",
        "# https://www.datasciencelearner.com/how-to-install-en_core_web_lg-spacy-model/\n",
        "\n",
        "!python3 -m spacy download en_core_web_lg"
      ],
      "execution_count": 20,
      "outputs": [
        {
          "output_type": "stream",
          "name": "stdout",
          "text": [
            "2023-06-30 09:27:09.759619: I tensorflow/core/platform/cpu_feature_guard.cc:182] This TensorFlow binary is optimized to use available CPU instructions in performance-critical operations.\n",
            "To enable the following instructions: AVX2 FMA, in other operations, rebuild TensorFlow with the appropriate compiler flags.\n",
            "2023-06-30 09:27:11.109396: W tensorflow/compiler/tf2tensorrt/utils/py_utils.cc:38] TF-TRT Warning: Could not find TensorRT\n",
            "Collecting en-core-web-lg==3.5.0\n",
            "  Downloading https://github.com/explosion/spacy-models/releases/download/en_core_web_lg-3.5.0/en_core_web_lg-3.5.0-py3-none-any.whl (587.7 MB)\n",
            "\u001b[2K     \u001b[90m━━━━━━━━━━━━━━━━━━━━━━━━━━━━━━━━━━━━━━━\u001b[0m \u001b[32m587.7/587.7 MB\u001b[0m \u001b[31m1.1 MB/s\u001b[0m eta \u001b[36m0:00:00\u001b[0m\n",
            "\u001b[?25hRequirement already satisfied: spacy<3.6.0,>=3.5.0 in /usr/local/lib/python3.10/dist-packages (from en-core-web-lg==3.5.0) (3.5.3)\n",
            "Requirement already satisfied: spacy-legacy<3.1.0,>=3.0.11 in /usr/local/lib/python3.10/dist-packages (from spacy<3.6.0,>=3.5.0->en-core-web-lg==3.5.0) (3.0.12)\n",
            "Requirement already satisfied: spacy-loggers<2.0.0,>=1.0.0 in /usr/local/lib/python3.10/dist-packages (from spacy<3.6.0,>=3.5.0->en-core-web-lg==3.5.0) (1.0.4)\n",
            "Requirement already satisfied: murmurhash<1.1.0,>=0.28.0 in /usr/local/lib/python3.10/dist-packages (from spacy<3.6.0,>=3.5.0->en-core-web-lg==3.5.0) (1.0.9)\n",
            "Requirement already satisfied: cymem<2.1.0,>=2.0.2 in /usr/local/lib/python3.10/dist-packages (from spacy<3.6.0,>=3.5.0->en-core-web-lg==3.5.0) (2.0.7)\n",
            "Requirement already satisfied: preshed<3.1.0,>=3.0.2 in /usr/local/lib/python3.10/dist-packages (from spacy<3.6.0,>=3.5.0->en-core-web-lg==3.5.0) (3.0.8)\n",
            "Requirement already satisfied: thinc<8.2.0,>=8.1.8 in /usr/local/lib/python3.10/dist-packages (from spacy<3.6.0,>=3.5.0->en-core-web-lg==3.5.0) (8.1.10)\n",
            "Requirement already satisfied: wasabi<1.2.0,>=0.9.1 in /usr/local/lib/python3.10/dist-packages (from spacy<3.6.0,>=3.5.0->en-core-web-lg==3.5.0) (1.1.2)\n",
            "Requirement already satisfied: srsly<3.0.0,>=2.4.3 in /usr/local/lib/python3.10/dist-packages (from spacy<3.6.0,>=3.5.0->en-core-web-lg==3.5.0) (2.4.6)\n",
            "Requirement already satisfied: catalogue<2.1.0,>=2.0.6 in /usr/local/lib/python3.10/dist-packages (from spacy<3.6.0,>=3.5.0->en-core-web-lg==3.5.0) (2.0.8)\n",
            "Requirement already satisfied: typer<0.8.0,>=0.3.0 in /usr/local/lib/python3.10/dist-packages (from spacy<3.6.0,>=3.5.0->en-core-web-lg==3.5.0) (0.7.0)\n",
            "Requirement already satisfied: pathy>=0.10.0 in /usr/local/lib/python3.10/dist-packages (from spacy<3.6.0,>=3.5.0->en-core-web-lg==3.5.0) (0.10.2)\n",
            "Requirement already satisfied: smart-open<7.0.0,>=5.2.1 in /usr/local/lib/python3.10/dist-packages (from spacy<3.6.0,>=3.5.0->en-core-web-lg==3.5.0) (6.3.0)\n",
            "Requirement already satisfied: tqdm<5.0.0,>=4.38.0 in /usr/local/lib/python3.10/dist-packages (from spacy<3.6.0,>=3.5.0->en-core-web-lg==3.5.0) (4.65.0)\n",
            "Requirement already satisfied: numpy>=1.15.0 in /usr/local/lib/python3.10/dist-packages (from spacy<3.6.0,>=3.5.0->en-core-web-lg==3.5.0) (1.22.4)\n",
            "Requirement already satisfied: requests<3.0.0,>=2.13.0 in /usr/local/lib/python3.10/dist-packages (from spacy<3.6.0,>=3.5.0->en-core-web-lg==3.5.0) (2.27.1)\n",
            "Requirement already satisfied: pydantic!=1.8,!=1.8.1,<1.11.0,>=1.7.4 in /usr/local/lib/python3.10/dist-packages (from spacy<3.6.0,>=3.5.0->en-core-web-lg==3.5.0) (1.10.9)\n",
            "Requirement already satisfied: jinja2 in /usr/local/lib/python3.10/dist-packages (from spacy<3.6.0,>=3.5.0->en-core-web-lg==3.5.0) (3.1.2)\n",
            "Requirement already satisfied: setuptools in /usr/local/lib/python3.10/dist-packages (from spacy<3.6.0,>=3.5.0->en-core-web-lg==3.5.0) (67.7.2)\n",
            "Requirement already satisfied: packaging>=20.0 in /usr/local/lib/python3.10/dist-packages (from spacy<3.6.0,>=3.5.0->en-core-web-lg==3.5.0) (23.1)\n",
            "Requirement already satisfied: langcodes<4.0.0,>=3.2.0 in /usr/local/lib/python3.10/dist-packages (from spacy<3.6.0,>=3.5.0->en-core-web-lg==3.5.0) (3.3.0)\n",
            "Requirement already satisfied: typing-extensions>=4.2.0 in /usr/local/lib/python3.10/dist-packages (from pydantic!=1.8,!=1.8.1,<1.11.0,>=1.7.4->spacy<3.6.0,>=3.5.0->en-core-web-lg==3.5.0) (4.6.3)\n",
            "Requirement already satisfied: urllib3<1.27,>=1.21.1 in /usr/local/lib/python3.10/dist-packages (from requests<3.0.0,>=2.13.0->spacy<3.6.0,>=3.5.0->en-core-web-lg==3.5.0) (1.26.16)\n",
            "Requirement already satisfied: certifi>=2017.4.17 in /usr/local/lib/python3.10/dist-packages (from requests<3.0.0,>=2.13.0->spacy<3.6.0,>=3.5.0->en-core-web-lg==3.5.0) (2023.5.7)\n",
            "Requirement already satisfied: charset-normalizer~=2.0.0 in /usr/local/lib/python3.10/dist-packages (from requests<3.0.0,>=2.13.0->spacy<3.6.0,>=3.5.0->en-core-web-lg==3.5.0) (2.0.12)\n",
            "Requirement already satisfied: idna<4,>=2.5 in /usr/local/lib/python3.10/dist-packages (from requests<3.0.0,>=2.13.0->spacy<3.6.0,>=3.5.0->en-core-web-lg==3.5.0) (3.4)\n",
            "Requirement already satisfied: blis<0.8.0,>=0.7.8 in /usr/local/lib/python3.10/dist-packages (from thinc<8.2.0,>=8.1.8->spacy<3.6.0,>=3.5.0->en-core-web-lg==3.5.0) (0.7.9)\n",
            "Requirement already satisfied: confection<1.0.0,>=0.0.1 in /usr/local/lib/python3.10/dist-packages (from thinc<8.2.0,>=8.1.8->spacy<3.6.0,>=3.5.0->en-core-web-lg==3.5.0) (0.0.4)\n",
            "Requirement already satisfied: click<9.0.0,>=7.1.1 in /usr/local/lib/python3.10/dist-packages (from typer<0.8.0,>=0.3.0->spacy<3.6.0,>=3.5.0->en-core-web-lg==3.5.0) (8.1.3)\n",
            "Requirement already satisfied: MarkupSafe>=2.0 in /usr/local/lib/python3.10/dist-packages (from jinja2->spacy<3.6.0,>=3.5.0->en-core-web-lg==3.5.0) (2.1.3)\n",
            "Installing collected packages: en-core-web-lg\n",
            "Successfully installed en-core-web-lg-3.5.0\n",
            "\u001b[38;5;2m✔ Download and installation successful\u001b[0m\n",
            "You can now load the package via spacy.load('en_core_web_lg')\n"
          ]
        }
      ]
    },
    {
      "cell_type": "code",
      "metadata": {
        "id": "LkURcwd5LJUp",
        "colab": {
          "base_uri": "https://localhost:8080/"
        },
        "outputId": "4dd7b72d-4b1f-4db5-cf38-7174daf0ec1d"
      },
      "source": [
        "import spacy\n",
        "# Load the spacy model that you have installed\n",
        "import en_core_web_lg\n",
        "nlp = en_core_web_lg.load()\n",
        "# process a sentence using the model\n",
        "doc = nlp(\"man king stands on the carpet and sees woman queen\")\n",
        "doc,len(doc),type(doc)"
      ],
      "execution_count": 33,
      "outputs": [
        {
          "output_type": "execute_result",
          "data": {
            "text/plain": [
              "(man king stands on the carpet and sees woman queen, 10, spacy.tokens.doc.Doc)"
            ]
          },
          "metadata": {},
          "execution_count": 33
        }
      ]
    },
    {
      "cell_type": "code",
      "source": [
        "# Get the token for 'king':\n",
        "doc[1],doc[1].shape,type(doc[1])"
      ],
      "metadata": {
        "id": "BFB8yE7JpDEc",
        "outputId": "b0d2ba69-192a-4e41-f771-a38c13a965ca",
        "colab": {
          "base_uri": "https://localhost:8080/"
        }
      },
      "execution_count": 34,
      "outputs": [
        {
          "output_type": "execute_result",
          "data": {
            "text/plain": [
              "(king, 13110060611322374290, spacy.tokens.token.Token)"
            ]
          },
          "metadata": {},
          "execution_count": 34
        }
      ]
    },
    {
      "cell_type": "code",
      "source": [
        "# Get the vector(numpy arrray ) for 'king':\n",
        "doc[1].vector, doc[1].vector.shape ,type(doc[1].vector)"
      ],
      "metadata": {
        "id": "oUfZgUoIpWa0",
        "outputId": "8a286fb8-dc7c-429f-954b-38d7ae2a6d33",
        "colab": {
          "base_uri": "https://localhost:8080/"
        }
      },
      "execution_count": 36,
      "outputs": [
        {
          "output_type": "execute_result",
          "data": {
            "text/plain": [
              "(array([-1.1296e-01, -4.1865e+00, -1.8453e+00,  3.0781e-01,  2.4956e+00,\n",
              "         9.6267e-01, -1.8161e+00,  4.4655e+00, -2.8210e+00,  9.7090e-01,\n",
              "         1.3542e+01,  4.3195e-01, -5.3098e+00,  4.7098e+00,  2.9030e+00,\n",
              "         1.5588e+00,  6.0064e+00, -3.0345e+00,  1.0626e+00, -7.7197e-01,\n",
              "        -5.4771e+00, -9.7380e-01, -4.4345e+00,  5.8367e+00,  2.4302e+00,\n",
              "        -3.9408e+00, -9.1862e-01, -4.9124e+00,  1.4591e+00, -7.2772e-01,\n",
              "         3.4957e+00, -4.0077e+00, -1.8354e+00, -4.1052e+00,  4.9211e+00,\n",
              "        -9.7053e-01,  1.9223e+00,  5.2605e+00,  1.6086e+00,  7.1328e-01,\n",
              "        -1.2146e+00, -1.9869e+00,  8.0265e-01,  2.9298e+00,  7.2985e-01,\n",
              "        -6.2892e-01, -1.7082e+00,  1.9893e+00,  4.7529e-01,  3.2264e+00,\n",
              "        -3.9215e+00,  4.6556e+00,  1.3475e+00, -1.0979e+00, -3.0365e+00,\n",
              "         1.5815e+00,  2.2835e+00, -4.0616e+00,  2.5730e+00,  4.0618e+00,\n",
              "         9.5438e-01, -6.2563e+00,  5.6463e+00, -3.8933e+00,  4.4076e+00,\n",
              "         2.0517e+00, -6.6906e+00, -6.9448e+00,  6.0371e+00,  9.3081e-01,\n",
              "         1.5180e+00,  2.3974e+00, -3.8043e+00, -4.3941e+00, -3.6979e+00,\n",
              "         2.9489e+00, -8.9735e+00,  9.5273e+00, -6.4149e-01,  2.2565e+00,\n",
              "        -7.2062e+00, -1.0078e+00, -4.4381e+00,  2.0424e+00, -6.6736e-01,\n",
              "         4.3500e+00, -1.6199e+00,  3.1975e+00, -1.2065e+00, -6.5684e-01,\n",
              "         7.5759e-01, -1.6033e+00,  2.5450e+00, -5.4999e+00, -1.8909e+00,\n",
              "        -1.2985e-02,  2.6703e+00,  5.4623e-01, -2.4504e+00, -4.4326e-01,\n",
              "        -1.7250e+00,  9.1585e-01,  7.5243e+00, -5.8451e-01,  3.4550e+00,\n",
              "         3.4817e+00, -4.1599e+00, -5.5125e-01,  2.7681e-02, -3.1687e+00,\n",
              "        -4.8459e+00,  7.9108e+00, -1.7062e+00, -2.6731e+00,  9.7841e+00,\n",
              "         3.8851e+00, -3.7930e+00, -5.2979e-01,  6.6191e-01, -9.7232e-01,\n",
              "        -9.4692e-01, -4.4918e+00,  1.0932e+00, -4.3751e+00,  1.3182e-02,\n",
              "        -1.0243e+01,  4.7973e+00, -8.7426e+00,  2.5479e+00,  2.3454e+00,\n",
              "        -6.4140e+00,  7.3875e-01,  5.8565e+00, -2.5964e-01,  1.6558e+00,\n",
              "        -3.1353e+00, -6.6752e+00,  1.0550e+00,  1.7017e+00, -3.8360e+00,\n",
              "        -1.1980e+01, -1.3750e+00, -1.9261e+00,  3.1267e+00,  3.2874e+00,\n",
              "        -2.8928e+00, -1.0893e+01,  4.2848e+00, -4.0890e-02, -5.9565e-01,\n",
              "        -3.3473e-02,  1.6832e+00,  2.1454e-01,  7.2849e+00,  2.8116e+00,\n",
              "         2.5708e+00, -3.9823e-01, -1.7257e+00, -6.1063e+00, -4.2618e+00,\n",
              "        -3.3886e+00, -9.2663e+00,  1.7600e-01, -3.3873e-02, -3.7070e+00,\n",
              "        -9.1995e+00, -7.1594e+00, -6.0189e-01, -7.2560e-01,  1.5342e+00,\n",
              "         5.1083e+00,  2.4373e+00, -3.8012e+00, -2.1752e-01,  2.9503e+00,\n",
              "        -2.5551e+00,  4.9827e-01,  8.6823e-01, -4.3449e+00, -4.3821e+00,\n",
              "         3.4993e+00, -1.9518e+00,  2.2036e+00, -6.6526e-01,  7.1015e+00,\n",
              "         3.6784e+00,  2.6251e-01,  1.5379e+00, -8.1950e-01,  1.1065e+00,\n",
              "         3.3167e+00, -5.9392e+00, -4.0191e+00,  2.6496e+00,  2.3168e+00,\n",
              "        -8.5681e-02, -3.5059e+00,  1.5915e+00, -3.1831e-01,  6.9366e+00,\n",
              "         3.8439e+00,  9.4076e-01, -7.5424e+00,  2.7847e+00, -2.2814e+00,\n",
              "        -4.2487e+00, -2.6604e-01,  3.7954e+00, -3.6526e+00,  4.3823e+00,\n",
              "        -2.6506e+00,  3.5298e+00,  2.2597e+00,  6.3055e+00, -7.0194e-01,\n",
              "         4.1565e+00,  8.2306e+00,  5.7675e-01,  4.3596e-01, -8.8400e+00,\n",
              "        -3.0249e+00,  4.0032e+00,  2.4232e+00,  6.9885e+00, -2.5906e-01,\n",
              "        -4.2059e+00,  1.2643e+00,  1.0110e+01,  9.7016e-01,  2.2963e+00,\n",
              "        -1.2802e+00, -1.4447e+00, -3.4386e+00,  5.6555e+00,  3.3911e+00,\n",
              "         6.9418e+00, -6.8705e+00, -8.1536e-01, -7.2334e+00,  3.0509e+00,\n",
              "         8.7676e-01,  6.4216e+00, -3.1655e+00, -1.5308e+00, -1.1056e+00,\n",
              "        -5.0426e+00,  4.6801e+00,  4.6812e+00,  4.0401e+00, -3.7289e-01,\n",
              "         6.7437e-01, -8.6660e+00, -9.9656e+00,  2.4979e+00, -1.4783e-01,\n",
              "        -5.6301e+00,  4.5542e+00,  4.8165e+00, -2.2055e-01,  4.5169e+00,\n",
              "         1.7496e+00,  2.9019e-01, -1.1683e+00, -4.3981e-01,  2.3469e+00,\n",
              "        -4.3521e-02,  6.3715e-01,  5.8259e-01, -8.5701e+00,  4.6419e+00,\n",
              "         2.3809e+00, -1.9273e-01, -6.9772e+00,  7.6172e-01, -6.3895e-01,\n",
              "        -3.3769e+00,  6.1265e+00, -1.9695e+00, -2.3404e+00,  6.6789e+00,\n",
              "        -3.5265e+00, -3.3883e+00,  6.1372e+00,  4.5550e+00,  6.0957e+00,\n",
              "        -2.2007e-01,  6.2087e-01,  2.5527e+00, -4.5590e+00, -2.8429e+00,\n",
              "         2.0645e+00, -1.6221e+00, -2.8171e+00, -2.9680e+00,  1.3651e+00,\n",
              "         3.6137e+00, -3.2096e-01, -1.9346e+00, -4.8738e+00,  2.5565e+00],\n",
              "       dtype=float32),\n",
              " (300,),\n",
              " numpy.ndarray)"
            ]
          },
          "metadata": {},
          "execution_count": 36
        }
      ]
    },
    {
      "cell_type": "code",
      "source": [
        "# Get the vector for 'king':\n",
        "doc[1].vector[:50]"
      ],
      "metadata": {
        "id": "j2no_qkipgK7",
        "outputId": "6a473542-112f-497f-8d69-97cad25c04eb",
        "colab": {
          "base_uri": "https://localhost:8080/"
        }
      },
      "execution_count": 30,
      "outputs": [
        {
          "output_type": "execute_result",
          "data": {
            "text/plain": [
              "array([-0.11296, -4.1865 , -1.8453 ,  0.30781,  2.4956 ,  0.96267,\n",
              "       -1.8161 ,  4.4655 , -2.821  ,  0.9709 , 13.542  ,  0.43195,\n",
              "       -5.3098 ,  4.7098 ,  2.903  ,  1.5588 ,  6.0064 , -3.0345 ,\n",
              "        1.0626 , -0.77197, -5.4771 , -0.9738 , -4.4345 ,  5.8367 ,\n",
              "        2.4302 , -3.9408 , -0.91862, -4.9124 ,  1.4591 , -0.72772,\n",
              "        3.4957 , -4.0077 , -1.8354 , -4.1052 ,  4.9211 , -0.97053,\n",
              "        1.9223 ,  5.2605 ,  1.6086 ,  0.71328, -1.2146 , -1.9869 ,\n",
              "        0.80265,  2.9298 ,  0.72985, -0.62892, -1.7082 ,  1.9893 ,\n",
              "        0.47529,  3.2264 ], dtype=float32)"
            ]
          },
          "metadata": {},
          "execution_count": 30
        }
      ]
    },
    {
      "cell_type": "markdown",
      "metadata": {
        "id": "hI-998SUfAx-"
      },
      "source": [
        "Find similarity between King and Queen tokens (higher value is better)."
      ]
    },
    {
      "cell_type": "code",
      "metadata": {
        "id": "K34HpkmWaEqV",
        "colab": {
          "base_uri": "https://localhost:8080/"
        },
        "outputId": "5791323e-41d2-480b-8443-9ccf7ec9bed5"
      },
      "source": [
        "doc[1].similarity(doc[9])"
      ],
      "execution_count": 37,
      "outputs": [
        {
          "output_type": "execute_result",
          "data": {
            "text/plain": [
              "0.6108841896057129"
            ]
          },
          "metadata": {},
          "execution_count": 37
        }
      ]
    },
    {
      "cell_type": "markdown",
      "metadata": {
        "id": "FXm7aeh4hES5"
      },
      "source": [
        "Find similarity between King and carpet"
      ]
    },
    {
      "cell_type": "code",
      "metadata": {
        "id": "vSqwqBrUcwMB",
        "colab": {
          "base_uri": "https://localhost:8080/"
        },
        "outputId": "4e9e696a-466b-4067-8c03-56ec994f822b"
      },
      "source": [
        "doc[1].similarity(doc[5])"
      ],
      "execution_count": 38,
      "outputs": [
        {
          "output_type": "execute_result",
          "data": {
            "text/plain": [
              "0.09562856703996658"
            ]
          },
          "metadata": {},
          "execution_count": 38
        }
      ]
    },
    {
      "cell_type": "markdown",
      "metadata": {
        "id": "YHsyuyS3h65C"
      },
      "source": [
        "Check if king - man + woman = queen. We will multiply vectors for 'man' and 'woman' by two, because subtracting the vector for 'man' and adding the vector for 'woman' will do little to the original vector for “king”, likely because those “man” and “woman” are related themselves."
      ]
    },
    {
      "cell_type": "code",
      "source": [
        "doc"
      ],
      "metadata": {
        "id": "765zV7mQ5IVg",
        "outputId": "b504d983-1749-4bf2-fed9-74453555a04d",
        "colab": {
          "base_uri": "https://localhost:8080/"
        }
      },
      "execution_count": 39,
      "outputs": [
        {
          "output_type": "execute_result",
          "data": {
            "text/plain": [
              "man king stands on the carpet and sees woman queen"
            ]
          },
          "metadata": {},
          "execution_count": 39
        }
      ]
    },
    {
      "cell_type": "code",
      "source": [
        "v =  doc[1].vector - (doc[0].vector*2) + (doc[8].vector*2)\n",
        "v.shape,type(v)"
      ],
      "metadata": {
        "id": "vTrq57K573zj",
        "outputId": "4fc8a2cb-895a-40d9-e8ca-373ed2a72d5e",
        "colab": {
          "base_uri": "https://localhost:8080/"
        }
      },
      "execution_count": 50,
      "outputs": [
        {
          "output_type": "execute_result",
          "data": {
            "text/plain": [
              "((300,), numpy.ndarray)"
            ]
          },
          "metadata": {},
          "execution_count": 50
        }
      ]
    },
    {
      "cell_type": "markdown",
      "source": [
        "# Format the vocabulary for use in the distance function\n",
        "\n"
      ],
      "metadata": {
        "id": "Bfd7cpLWi0FS"
      }
    },
    {
      "cell_type": "markdown",
      "source": [
        "\n",
        "Find the closest word below\n"
      ],
      "metadata": {
        "id": "HkcZCAiA7GfA"
      }
    },
    {
      "cell_type": "code",
      "source": [
        "from scipy.spatial import distance\n",
        "import numpy as np\n",
        "\n",
        "# Format the vocabulary for use in the distance function\n",
        "vectors = [token.vector for token in doc]\n",
        "vectors = np.array(vectors)\n",
        "vectors.shape,type(vectors)\n"
      ],
      "metadata": {
        "id": "hIk-Emuq7jVg",
        "outputId": "88e5e2ae-fd07-4241-f764-9634b62b35d8",
        "colab": {
          "base_uri": "https://localhost:8080/"
        }
      },
      "execution_count": 51,
      "outputs": [
        {
          "output_type": "execute_result",
          "data": {
            "text/plain": [
              "((10, 300), numpy.ndarray)"
            ]
          },
          "metadata": {},
          "execution_count": 51
        }
      ]
    },
    {
      "cell_type": "markdown",
      "source": [
        "## The Cosıne Distances"
      ],
      "metadata": {
        "id": "eh4O9kvB8Wqh"
      }
    },
    {
      "cell_type": "code",
      "source": [
        "closest_index = distance.cdist(np.expand_dims(v, axis = 0), vectors, metric = 'cosine').argmin()\n",
        "output_word = doc[closest_index].text"
      ],
      "metadata": {
        "id": "wsfXWzGf7x1T"
      },
      "execution_count": 52,
      "outputs": []
    },
    {
      "cell_type": "code",
      "metadata": {
        "id": "AjVLpbCG9829",
        "colab": {
          "base_uri": "https://localhost:8080/",
          "height": 35
        },
        "outputId": "976375cf-d722-4efe-90eb-dc3a8a93b8cd"
      },
      "source": [
        "output_word"
      ],
      "execution_count": 53,
      "outputs": [
        {
          "output_type": "execute_result",
          "data": {
            "text/plain": [
              "'king'"
            ],
            "application/vnd.google.colaboratory.intrinsic+json": {
              "type": "string"
            }
          },
          "metadata": {},
          "execution_count": 53
        }
      ]
    },
    {
      "cell_type": "markdown",
      "metadata": {
        "id": "wwntpvV54Mc4"
      },
      "source": [
        "## FastText\n",
        "\n",
        "[FastText](https://github.com/facebookresearch/fastText) is an extension of word2vec. FastText was developed by the team of Tomas Mikolov who proposed the word2vec framework in 2013.\n",
        "\n",
        "The main improvement of FastText over the original word2vec vectors is the inclusion of character [n-grams](https://en.wikipedia.org/wiki/N-gram), which allows computing word representations for words that did not appear in the training data (“out-of-vocabulary” words)."
      ]
    },
    {
      "cell_type": "code",
      "metadata": {
        "id": "s8sfT_Z24MDw",
        "colab": {
          "base_uri": "https://localhost:8080/"
        },
        "outputId": "27669a70-ebbe-47aa-b63f-481fae5a9fab"
      },
      "source": [
        "!pip install Cython --install-option=\"--no-cython-compile\"\n",
        "!pip install fasttext"
      ],
      "execution_count": 2,
      "outputs": [
        {
          "output_type": "stream",
          "name": "stdout",
          "text": [
            "\n",
            "Usage:   \n",
            "  pip3 install [options] <requirement specifier> [package-index-options] ...\n",
            "  pip3 install [options] -r <requirements file> [package-index-options] ...\n",
            "  pip3 install [options] [-e] <vcs project url> ...\n",
            "  pip3 install [options] [-e] <local project path> ...\n",
            "  pip3 install [options] <archive url/path> ...\n",
            "\n",
            "no such option: --install-option\n",
            "Requirement already satisfied: fasttext in /usr/local/lib/python3.10/dist-packages (0.9.2)\n",
            "Requirement already satisfied: pybind11>=2.2 in /usr/local/lib/python3.10/dist-packages (from fasttext) (2.10.4)\n",
            "Requirement already satisfied: setuptools>=0.7.0 in /usr/local/lib/python3.10/dist-packages (from fasttext) (67.7.2)\n",
            "Requirement already satisfied: numpy in /usr/local/lib/python3.10/dist-packages (from fasttext) (1.22.4)\n"
          ]
        }
      ]
    },
    {
      "cell_type": "code",
      "metadata": {
        "id": "gu6wVBQ89-kd"
      },
      "source": [
        "# download pre-trained language word vectors from one of 157 languges  https://fasttext.cc/docs/en/crawl-vectors.html\n",
        "# it will take some time, about 5 minutes\n",
        "import fasttext\n",
        "import fasttext.util\n",
        "fasttext.util.download_model('en', if_exists='ignore')  # English\n",
        "\n"
      ],
      "execution_count": null,
      "outputs": []
    },
    {
      "cell_type": "code",
      "source": [
        "ft = fasttext.load_model('cc.en.300.bin')"
      ],
      "metadata": {
        "id": "HpUxFWn7F_xQ",
        "outputId": "cf940aea-fc00-42fe-9bba-87e8c41a3553",
        "colab": {
          "base_uri": "https://localhost:8080/"
        }
      },
      "execution_count": 6,
      "outputs": [
        {
          "output_type": "stream",
          "name": "stderr",
          "text": [
            "Warning : `load_model` does not return WordVectorModel or SupervisedModel any more, but a `FastText` object which is very similar.\n"
          ]
        }
      ]
    },
    {
      "cell_type": "code",
      "metadata": {
        "id": "FnJKqcnl7l_L",
        "colab": {
          "base_uri": "https://localhost:8080/"
        },
        "outputId": "6260f829-ce42-43f7-df43-ac7b73fe9d99"
      },
      "source": [
        "ft.get_word_vector('king').shape"
      ],
      "execution_count": 7,
      "outputs": [
        {
          "output_type": "execute_result",
          "data": {
            "text/plain": [
              "(300,)"
            ]
          },
          "metadata": {},
          "execution_count": 7
        }
      ]
    },
    {
      "cell_type": "markdown",
      "metadata": {
        "id": "b3Dv2Fun_ExK"
      },
      "source": [
        "Test model ability to create vectors for unknown words."
      ]
    },
    {
      "cell_type": "code",
      "metadata": {
        "id": "1Om1eNJ-_h-J",
        "colab": {
          "base_uri": "https://localhost:8080/"
        },
        "outputId": "d76de131-9af3-4436-8829-e201024db063"
      },
      "source": [
        "'king' in ft.words"
      ],
      "execution_count": 8,
      "outputs": [
        {
          "output_type": "execute_result",
          "data": {
            "text/plain": [
              "True"
            ]
          },
          "metadata": {},
          "execution_count": 8
        }
      ]
    },
    {
      "cell_type": "code",
      "metadata": {
        "id": "etfyb0xl--1M",
        "colab": {
          "base_uri": "https://localhost:8080/"
        },
        "outputId": "80093f96-22d1-4e7e-dcc2-5cab40ab9a28"
      },
      "source": [
        "'burgerking' in ft.words"
      ],
      "execution_count": 9,
      "outputs": [
        {
          "output_type": "execute_result",
          "data": {
            "text/plain": [
              "True"
            ]
          },
          "metadata": {},
          "execution_count": 9
        }
      ]
    },
    {
      "cell_type": "code",
      "metadata": {
        "id": "kMR5VDgd_Pfg",
        "colab": {
          "base_uri": "https://localhost:8080/"
        },
        "outputId": "2d62e8e8-b1eb-48e7-f066-1775a0598bc6"
      },
      "source": [
        "'king-warrior' in ft.words"
      ],
      "execution_count": 10,
      "outputs": [
        {
          "output_type": "execute_result",
          "data": {
            "text/plain": [
              "False"
            ]
          },
          "metadata": {},
          "execution_count": 10
        }
      ]
    },
    {
      "cell_type": "code",
      "metadata": {
        "id": "UTLZvg5e_cBQ",
        "colab": {
          "base_uri": "https://localhost:8080/"
        },
        "outputId": "3e6558a5-29aa-4c67-9f72-0fca4094f187"
      },
      "source": [
        "ft.get_nearest_neighbors('king')"
      ],
      "execution_count": 11,
      "outputs": [
        {
          "output_type": "execute_result",
          "data": {
            "text/plain": [
              "[(0.7550359964370728, 'kings'),\n",
              " (0.7068519592285156, 'queen'),\n",
              " (0.7060439586639404, 'king-'),\n",
              " (0.6811205148696899, 'king.'),\n",
              " (0.660710871219635, 'king.The'),\n",
              " (0.6591265797615051, 'King'),\n",
              " (0.6495252251625061, 'prince'),\n",
              " (0.6278106570243835, '-king'),\n",
              " (0.6183920502662659, 'monarch'),\n",
              " (0.6070184707641602, 'queen-mother')]"
            ]
          },
          "metadata": {},
          "execution_count": 11
        }
      ]
    },
    {
      "cell_type": "code",
      "metadata": {
        "id": "D7S0lXL0_1D7",
        "colab": {
          "base_uri": "https://localhost:8080/"
        },
        "outputId": "e7bb310c-c75d-47d9-f25f-94262872411e"
      },
      "source": [
        "ft.get_nearest_neighbors('burgerking')"
      ],
      "execution_count": 12,
      "outputs": [
        {
          "output_type": "execute_result",
          "data": {
            "text/plain": [
              "[(0.6571484208106995, 'mcdonalds'),\n",
              " (0.643631100654602, 'tacobell'),\n",
              " (0.6353889107704163, 'macdonalds'),\n",
              " (0.6343632340431213, 'Mcdonalds'),\n",
              " (0.6275104284286499, 'mcds'),\n",
              " (0.6220166087150574, 'pizzahut'),\n",
              " (0.6129778623580933, 'arbys'),\n",
              " (0.6086134314537048, 'BurgerKing'),\n",
              " (0.592319667339325, 'applebees'),\n",
              " (0.5817458629608154, 'wendys')]"
            ]
          },
          "metadata": {},
          "execution_count": 12
        }
      ]
    },
    {
      "cell_type": "code",
      "metadata": {
        "id": "08DO8xhs_81M",
        "colab": {
          "base_uri": "https://localhost:8080/"
        },
        "outputId": "f5e21e53-5260-4a08-b38f-18752d9696ea"
      },
      "source": [
        "ft.get_nearest_neighbors('king-warrior')"
      ],
      "execution_count": 13,
      "outputs": [
        {
          "output_type": "execute_result",
          "data": {
            "text/plain": [
              "[(0.43609192967414856,\n",
              "  'strachanenlightenmententrepreneursentrepreneurshipenvironmentalismEric'),\n",
              " (0.4255003333091736, 'hunter-warrior'),\n",
              " (0.39559242129325867, 'NinjaPirateZombieRobot'),\n",
              " (0.3859368860721588,\n",
              "  'deblogueroreflejoantecedentesexitlacuachebateysuteindesignableabsorbersexilatifundiosexibrezarsutemultiétnicosexiplinrapobrezarcorrentosoVd.lazadafisiochillidomabrezarsico-chuzaoutcolodrablogueroin'),\n",
              " (0.3846653997898102,\n",
              "  'ResultsLadderTeamsBluesBrumbiesBullsCheetahsChiefsCrusadersForceHighlandersHurricanesJaguaresKingsLionsRebelsRedsSharksStormersSunwolvesWaratahsPlayersTippingFantasyRugby'),\n",
              " (0.37958475947380066,\n",
              "  'FriendsHungryForAppsSharewareOnSaleDonationCoderGhacks'),\n",
              " (0.3776894211769104,\n",
              "  'ESTATERETAILCONSUMERPHONESCARSBIKESAPPSINTERNETTABLETSCOMPUTERSSOCIETYPOLITICSLAWCRIMEENVIRONMENTSCIENCEARTSCELEBRITIESSPORTSSPECIALSFIRST'),\n",
              " (0.37076932191848755,\n",
              "  'ResultsTeamsBroncosBulldogsCowboysDragonsEelsKnightsPanthersRabbitohsRaidersRoostersSea-EaglesSharksStormTigersTitansWarriorsPlayer'),\n",
              " (0.3690166175365448, 'racepro-lifeprofessorsproverbspsychologypublic'),\n",
              " (0.3687925338745117,\n",
              "  'videoAnglicansAtheistsBibleBishopsBloggingBooksBrooklynChaplainsChurchesCNEWAConvertsDeaconsEastern')]"
            ]
          },
          "metadata": {},
          "execution_count": 13
        }
      ]
    },
    {
      "cell_type": "markdown",
      "metadata": {
        "id": "lvE181s7EVO3"
      },
      "source": [
        "## ELMo (Embeddings from Language Models)\n",
        "\n",
        "Unlike traditional word embeddings such as word2vec and GLoVe, the ELMo vector assigned to a token or word depends on current context and is actually a function of the entire sentence containing that word. So, the same word can have different word vectors under different contexts. Also,  ELMo representations are purely character based, so they are not limited to any predefined vocabulary.\n",
        "\n",
        "Description from official site:\n",
        "\n",
        "**[ELMo](https://allennlp.org/elmo)** is a deep contextualized word representation that models both (1) complex characteristics of word use (e.g., syntax and semantics), and (2) how these uses vary across linguistic contexts (i.e., to model polysemy). These word vectors are learned functions of the internal states of a deep bidirectional language model (biLM), which is pre-trained on a large text corpus. They can be easily added to existing models and significantly improve the state of the art across a broad range of challenging NLP problems, including question answering, textual entailment and sentiment analysis."
      ]
    },
    {
      "cell_type": "code",
      "metadata": {
        "id": "3ZBZdmGyRAHd",
        "colab": {
          "base_uri": "https://localhost:8080/",
          "height": 397
        },
        "outputId": "5a8adf6e-98e4-4b1d-c807-0fa311166c5c"
      },
      "source": [
        "# use tensorflow 1.x for ELMo, because there are still no ELMo for tensorflow 2.0\n",
        "\n",
        "%tensorflow_version 1.x"
      ],
      "execution_count": 15,
      "outputs": [
        {
          "output_type": "error",
          "ename": "ValueError",
          "evalue": "ignored",
          "traceback": [
            "\u001b[0;31m---------------------------------------------------------------------------\u001b[0m",
            "\u001b[0;31mValueError\u001b[0m                                Traceback (most recent call last)",
            "\u001b[0;32m<ipython-input-15-a6f8a9fa9caa>\u001b[0m in \u001b[0;36m<cell line: 3>\u001b[0;34m()\u001b[0m\n\u001b[1;32m      1\u001b[0m \u001b[0;31m# use tensorflow 1.x for ELMo, because there are still no ELMo for tensorflow 2.0\u001b[0m\u001b[0;34m\u001b[0m\u001b[0;34m\u001b[0m\u001b[0m\n\u001b[1;32m      2\u001b[0m \u001b[0;34m\u001b[0m\u001b[0m\n\u001b[0;32m----> 3\u001b[0;31m \u001b[0mget_ipython\u001b[0m\u001b[0;34m(\u001b[0m\u001b[0;34m)\u001b[0m\u001b[0;34m.\u001b[0m\u001b[0mrun_line_magic\u001b[0m\u001b[0;34m(\u001b[0m\u001b[0;34m'tensorflow_version'\u001b[0m\u001b[0;34m,\u001b[0m \u001b[0;34m'1.x'\u001b[0m\u001b[0;34m)\u001b[0m\u001b[0;34m\u001b[0m\u001b[0;34m\u001b[0m\u001b[0m\n\u001b[0m",
            "\u001b[0;32m/usr/local/lib/python3.10/dist-packages/IPython/core/interactiveshell.py\u001b[0m in \u001b[0;36mrun_line_magic\u001b[0;34m(self, magic_name, line, _stack_depth)\u001b[0m\n\u001b[1;32m   2416\u001b[0m                 \u001b[0mkwargs\u001b[0m\u001b[0;34m[\u001b[0m\u001b[0;34m'local_ns'\u001b[0m\u001b[0;34m]\u001b[0m \u001b[0;34m=\u001b[0m \u001b[0mself\u001b[0m\u001b[0;34m.\u001b[0m\u001b[0mget_local_scope\u001b[0m\u001b[0;34m(\u001b[0m\u001b[0mstack_depth\u001b[0m\u001b[0;34m)\u001b[0m\u001b[0;34m\u001b[0m\u001b[0;34m\u001b[0m\u001b[0m\n\u001b[1;32m   2417\u001b[0m             \u001b[0;32mwith\u001b[0m \u001b[0mself\u001b[0m\u001b[0;34m.\u001b[0m\u001b[0mbuiltin_trap\u001b[0m\u001b[0;34m:\u001b[0m\u001b[0;34m\u001b[0m\u001b[0;34m\u001b[0m\u001b[0m\n\u001b[0;32m-> 2418\u001b[0;31m                 \u001b[0mresult\u001b[0m \u001b[0;34m=\u001b[0m \u001b[0mfn\u001b[0m\u001b[0;34m(\u001b[0m\u001b[0;34m*\u001b[0m\u001b[0margs\u001b[0m\u001b[0;34m,\u001b[0m \u001b[0;34m**\u001b[0m\u001b[0mkwargs\u001b[0m\u001b[0;34m)\u001b[0m\u001b[0;34m\u001b[0m\u001b[0;34m\u001b[0m\u001b[0m\n\u001b[0m\u001b[1;32m   2419\u001b[0m             \u001b[0;32mreturn\u001b[0m \u001b[0mresult\u001b[0m\u001b[0;34m\u001b[0m\u001b[0;34m\u001b[0m\u001b[0m\n\u001b[1;32m   2420\u001b[0m \u001b[0;34m\u001b[0m\u001b[0m\n",
            "\u001b[0;32m/usr/local/lib/python3.10/dist-packages/google/colab/_tensorflow_magics.py\u001b[0m in \u001b[0;36m_tensorflow_version\u001b[0;34m(line)\u001b[0m\n\u001b[1;32m     33\u001b[0m \u001b[0;34m\u001b[0m\u001b[0m\n\u001b[1;32m     34\u001b[0m   \u001b[0;32mif\u001b[0m \u001b[0mline\u001b[0m\u001b[0;34m.\u001b[0m\u001b[0mstartswith\u001b[0m\u001b[0;34m(\u001b[0m\u001b[0;34m\"1\"\u001b[0m\u001b[0;34m)\u001b[0m\u001b[0;34m:\u001b[0m\u001b[0;34m\u001b[0m\u001b[0;34m\u001b[0m\u001b[0m\n\u001b[0;32m---> 35\u001b[0;31m     raise ValueError(\n\u001b[0m\u001b[1;32m     36\u001b[0m         \u001b[0;31m# pylint: disable=line-too-long\u001b[0m\u001b[0;34m\u001b[0m\u001b[0;34m\u001b[0m\u001b[0m\n\u001b[1;32m     37\u001b[0m         textwrap.dedent(\n",
            "\u001b[0;31mValueError\u001b[0m: Tensorflow 1 is unsupported in Colab.\n\nYour notebook should be updated to use Tensorflow 2.\nSee the guide at https://www.tensorflow.org/guide/migrate#migrate-from-tensorflow-1x-to-tensorflow-2."
          ]
        }
      ]
    },
    {
      "cell_type": "code",
      "metadata": {
        "id": "T5vfQ_W2ABqG"
      },
      "source": [
        "import tensorflow_hub as hub\n",
        "import tensorflow as tf"
      ],
      "execution_count": null,
      "outputs": []
    },
    {
      "cell_type": "code",
      "metadata": {
        "id": "cud78zEfKJNy"
      },
      "source": [
        "# Download pretrained ELMo model from Tensorflow Hub https://tfhub.dev/google/elmo/3\n",
        "\n",
        "elmo = hub.Module(\"https://tfhub.dev/google/elmo/3\", trainable=True)"
      ],
      "execution_count": null,
      "outputs": []
    },
    {
      "cell_type": "code",
      "metadata": {
        "id": "GW5eWPqCKOFz"
      },
      "source": [
        "sentences =  \\\n",
        "['king arthur, also called arthur or aathur pendragon, legendary british king who appears in a cycle of \\\n",
        "medieval romances (known as the matter of britain) as the sovereign of a knightly fellowship of the round table.',\n",
        "'it is not certain how these legends originated or whether the figure of arthur was based on a historical person.',\n",
        "'the legend possibly originated either in wales or in those parts of northern britain inhabited by brythonic-speaking celts.',\n",
        "'for a fuller treatment of the stories about king arthur, see also arthurian legend.']\n",
        "\n",
        "sentences"
      ],
      "execution_count": null,
      "outputs": []
    },
    {
      "cell_type": "markdown",
      "metadata": {
        "id": "2J2HsCMlCPk6"
      },
      "source": [
        "In order to send sentences to the model we need to split them into the arrays of words and pad arrays to the same length. Also we will create 'mask' array, that will show whether element is a real word or a padding symbol (in our case - '_'). We will use 'mask' array for visualization later, to show only real words."
      ]
    },
    {
      "cell_type": "code",
      "metadata": {
        "id": "in6aekmEUMsZ"
      },
      "source": [
        "words = []\n",
        "mask = []\n",
        "masked_words = []\n",
        "\n",
        "for sent in sentences:\n",
        "  splitted = sent.split()\n",
        "  for i in range(36):\n",
        "    try:\n",
        "      words.append(splitted[i])\n",
        "    except:\n",
        "      words.append('_')\n",
        "\n",
        "for word in words:\n",
        "  if word == \"_\":\n",
        "    mask.append(False)\n",
        "  else:\n",
        "    mask.append(True)\n",
        "    masked_words.append(word)\n"
      ],
      "execution_count": null,
      "outputs": []
    },
    {
      "cell_type": "code",
      "metadata": {
        "id": "ruJQINKCBHhL"
      },
      "source": [
        "len(masked_words)"
      ],
      "execution_count": null,
      "outputs": []
    },
    {
      "cell_type": "markdown",
      "metadata": {
        "id": "qkDSfBYdJFC_"
      },
      "source": [
        "Create embeddings with ELMo:"
      ]
    },
    {
      "cell_type": "code",
      "metadata": {
        "id": "LoEjgebFMopG"
      },
      "source": [
        "embeddings = elmo(\n",
        "    sentences,\n",
        "    signature=\"default\",\n",
        "    as_dict=True)[\"elmo\"]"
      ],
      "execution_count": null,
      "outputs": []
    },
    {
      "cell_type": "markdown",
      "metadata": {
        "id": "ZO-fH5ewJLQq"
      },
      "source": [
        "Convert Tensorflow tensors to numpy array."
      ]
    },
    {
      "cell_type": "code",
      "metadata": {
        "id": "QrfigfFxNef1"
      },
      "source": [
        "%%time\n",
        "with tf.Session() as sess:\n",
        "  sess.run(tf.global_variables_initializer())\n",
        "  sess.run(tf.tables_initializer())\n",
        "  x = sess.run(embeddings)"
      ],
      "execution_count": null,
      "outputs": []
    },
    {
      "cell_type": "code",
      "metadata": {
        "id": "iUSvgkuZOILL"
      },
      "source": [
        "x.shape"
      ],
      "execution_count": null,
      "outputs": []
    },
    {
      "cell_type": "code",
      "metadata": {
        "id": "Nf_0UouAS4-i"
      },
      "source": [
        "embs = x.reshape(-1, 1024)\n",
        "embs.shape"
      ],
      "execution_count": null,
      "outputs": []
    },
    {
      "cell_type": "code",
      "metadata": {
        "id": "k7XZpPesCquG"
      },
      "source": [
        "masked_embs = embs[mask]\n",
        "masked_embs.shape"
      ],
      "execution_count": null,
      "outputs": []
    },
    {
      "cell_type": "markdown",
      "metadata": {
        "id": "bubmY1JNSNyy"
      },
      "source": [
        "Visualize embeddings using PCA"
      ]
    },
    {
      "cell_type": "code",
      "metadata": {
        "id": "Cg7utRgbSBA2"
      },
      "source": [
        "from sklearn.decomposition import PCA\n",
        "\n",
        "pca = PCA(n_components=10)\n",
        "y = pca.fit_transform(masked_embs)\n",
        "\n",
        "from sklearn.manifold import TSNE\n",
        "\n",
        "y = TSNE(n_components=2).fit_transform(y)"
      ],
      "execution_count": null,
      "outputs": []
    },
    {
      "cell_type": "code",
      "metadata": {
        "id": "efqZ1Xy2STHm"
      },
      "source": [
        "import plotly as py\n",
        "import plotly.graph_objs as go\n",
        "\n",
        "\n",
        "data = [\n",
        "    go.Scatter(\n",
        "        x=[i[0] for i in y],\n",
        "        y=[i[1] for i in y],\n",
        "        mode='markers',\n",
        "        text=[i for i in masked_words],\n",
        "    marker=dict(\n",
        "        size=16,\n",
        "        color = [len(i) for i in masked_words], #set color equal to a variable\n",
        "        opacity= 0.8,\n",
        "        colorscale='Viridis',\n",
        "        showscale=False\n",
        "    )\n",
        "    )\n",
        "]\n",
        "layout = go.Layout()\n",
        "layout = dict(\n",
        "              yaxis = dict(zeroline = False),\n",
        "              xaxis = dict(zeroline = False)\n",
        "             )\n",
        "fig = go.Figure(data=data, layout=layout)"
      ],
      "execution_count": null,
      "outputs": []
    },
    {
      "cell_type": "code",
      "metadata": {
        "id": "BU7uQvt7GWo-"
      },
      "source": [
        "fig.show()"
      ],
      "execution_count": null,
      "outputs": []
    },
    {
      "cell_type": "markdown",
      "metadata": {
        "id": "ns4h9haN15DG"
      },
      "source": [
        "## Transformers\n",
        "\n",
        "At last it's time for current state-of-the-art approach - Transformers. Famous [GPT-2](https://openai.com/blog/better-language-models/), [BERT](https://github.com/google-research/bert), [CTRL](https://blog.einstein.ai/introducing-a-conditional-transformer-language-model-for-controllable-generation/) are all Transformers-based and produce context-sensitive embeddings like ELMo. But unlike ELMo Transformers do not use [RNN](https://en.wikipedia.org/wiki/Recurrent_neural_network), trey do not require to process words in sentence sequentially one-by-one. All words in the sentence are processed in parallel, this approach speeds up processing and solves [vanishing gradient problem](https://en.wikipedia.org/wiki/Vanishing_gradient_problem).\n",
        "\n",
        "Transformers use the [attention mechanizm](https://arxiv.org/abs/1706.03762) to describe the connections and dependencies of each specific word with all other words in the sentence. This mechanism and the main principles of Transformers described in detail in a beautifully illustrated [article](http://jalammar.github.io/illustrated-transformer/) by Jay Alammar.\n",
        "\n",
        "![alt text](http://jalammar.github.io/images/t/transformer_resideual_layer_norm_3.png) Image from[ http://jalammar.github.io](http://jalammar.github.io/illustrated-transformer/)\n",
        "\n"
      ]
    },
    {
      "cell_type": "markdown",
      "metadata": {
        "id": "zvHAQ0_tINn4"
      },
      "source": [
        "For our example we wil use brilliant [Transformers](https://huggingface.co/transformers/) library, which contains the latest Transformers-based models (such as [BERT](https://huggingface.co/transformers/model_doc/bert.html), [XLNet](https://huggingface.co/transformers/model_doc/xlnet.html), [DialoGPT](https://huggingface.co/transformers/model_doc/dialogpt.html) or [GPT-2](https://huggingface.co/transformers/model_doc/gpt2.html)).\n",
        "\n",
        "Let's make some embeddings with BERT. Firstly we will need to install Transformers library."
      ]
    },
    {
      "cell_type": "code",
      "metadata": {
        "id": "Y05tZ1HmVuiD"
      },
      "source": [
        "!pip install transformers"
      ],
      "execution_count": null,
      "outputs": []
    },
    {
      "cell_type": "markdown",
      "metadata": {
        "id": "KyvVhedCO77-"
      },
      "source": [
        "Now we import pytorch, the pretrained BERT model, and a BERT tokenizer, that will do all the needed work of converting sentences into format appropriate for BERT (tokenizing itself and adding special tokens like [SEP] and [CLS])."
      ]
    },
    {
      "cell_type": "code",
      "metadata": {
        "id": "SQgQVUWBE3uK"
      },
      "source": [
        "import torch\n",
        "torch.manual_seed(0)\n",
        "from transformers import BertTokenizer, BertModel\n",
        "\n",
        "import logging\n",
        "import matplotlib.pyplot as plt\n",
        "% matplotlib inline\n",
        "\n",
        "# Load pre-trained model tokenizer (vocabulary)\n",
        "tokenizer = BertTokenizer.from_pretrained('bert-base-uncased', do_lower_case=True)"
      ],
      "execution_count": null,
      "outputs": []
    },
    {
      "cell_type": "markdown",
      "metadata": {
        "id": "RoKGZPu1dnDz"
      },
      "source": [
        "Enter some sentences and tokenize them."
      ]
    },
    {
      "cell_type": "code",
      "metadata": {
        "id": "WQiMtrxHPyYz"
      },
      "source": [
        "sentences =  \\\n",
        "['king arthur, also called arthur or aathur pendragon, legendary british king who appears in a cycle of \\\n",
        "medieval romances (known as the matter of britain) as the sovereign of a knightly fellowship of the round table.',\n",
        "'it is not certain how these legends originated or whether the figure of arthur was based on a historical person.',\n",
        "'the legend possibly originated either in wales or in those parts of northern britain inhabited by brythonic-speaking celts.',\n",
        "'for a fuller treatment of the stories about king arthur, see also arthurian legend.']\n",
        "\n",
        "sentences"
      ],
      "execution_count": null,
      "outputs": []
    },
    {
      "cell_type": "code",
      "metadata": {
        "id": "dIgUC1H-Qq3s"
      },
      "source": [
        "# Print the original sentence.\n",
        "print(' Original: ', sentences[0][:99])\n",
        "\n",
        "# Print the sentence split into tokens.\n",
        "print('Tokenized: ', tokenizer.tokenize(sentences[0])[:15])\n",
        "\n",
        "# Print the sentence mapped to token ids.\n",
        "print('Token IDs: ', tokenizer.convert_tokens_to_ids(tokenizer.tokenize(sentences[0]))[:15])\n"
      ],
      "execution_count": null,
      "outputs": []
    },
    {
      "cell_type": "markdown",
      "metadata": {
        "id": "8CLrBzF0Xor1"
      },
      "source": [
        "Note that some tokens may look like this: ['aa', '##th', '##ur', 'pen', '##dra', '##gon']. This is because of the BERT tokenizer was created with a WordPiece model. This model greedily creates a fixed-size vocabulary of individual characters, subwords, and words that best fits our language data. BERT tokenizer uses vocabulary that contains all English characters plus the ~30,000 most common words and subwords found in the English language corpus the model is trained on. So, if the word is not mentioned in a vocabulary, that words is splitted into subwords and characters.  The two hash signs (##) before some subwords shows that subword is part of a larger word and preceded by another subword.   "
      ]
    },
    {
      "cell_type": "markdown",
      "metadata": {
        "id": "wJj-lGP-W0me"
      },
      "source": [
        "We will use tokenizer.encode_plus function, that will:\n",
        "\n",
        "- Split the sentence into tokens.\n",
        "- Add the special [CLS] and [SEP] tokens.\n",
        "- Map the tokens to their IDs.\n",
        "- Pad or truncate all sentences to the same length.\n",
        "- Create the attention masks which explicitly differentiate real tokens from [PAD] tokens.\n"
      ]
    },
    {
      "cell_type": "code",
      "metadata": {
        "id": "CvZPrF5fWzTZ"
      },
      "source": [
        "# Tokenize all of the sentences and map the tokens to thier word IDs.\n",
        "input_ids = []\n",
        "attention_masks = []\n",
        "tokenized_texts = []\n",
        "\n",
        "\n",
        "for sent in sentences:\n",
        "    encoded_dict = tokenizer.encode_plus(\n",
        "                        sent,                      # Sentence to encode.\n",
        "                        add_special_tokens = True, # Add '[CLS]' and '[SEP]'\n",
        "                        truncation=True,\n",
        "                        max_length = 48,           # Pad & truncate all sentences.\n",
        "                        pad_to_max_length = True,\n",
        "                        return_tensors = 'pt',     # Return pytorch tensors.\n",
        "                   )\n",
        "\n",
        "    # Save tokens from sentence as a separate array. We will use it later to explore and compare embeddings.\n",
        "    marked_text = \"[CLS] \" + sent + \" [SEP]\"\n",
        "    tokenized_texts.append(tokenizer.tokenize(marked_text))\n",
        "\n",
        "    # Add the encoded sentence to the list.\n",
        "    input_ids.append(encoded_dict['input_ids'])\n",
        "\n",
        "# Convert the list into tensor.\n",
        "input_ids = torch.cat(input_ids, dim=0)\n",
        "\n",
        "# Print sentence 0, now as a list of IDs.\n",
        "print('Original: ', sentences[0])\n",
        "print('Token IDs:', input_ids[0])"
      ],
      "execution_count": null,
      "outputs": []
    },
    {
      "cell_type": "markdown",
      "metadata": {
        "id": "l-HG1Chbh2da"
      },
      "source": [
        "**Segment ID**. BERT is trained on and expects sentence pairs using 1s and 0s to distinguish between the two sentences. We will encode each sentence separately so we will just mark each token in each sentence with 1."
      ]
    },
    {
      "cell_type": "code",
      "metadata": {
        "id": "0LjE5M-Qfzxg"
      },
      "source": [
        "segments_ids = torch.ones_like(input_ids)\n",
        "segments_ids.shape"
      ],
      "execution_count": null,
      "outputs": []
    },
    {
      "cell_type": "markdown",
      "metadata": {
        "id": "tAlTfj9nlItq"
      },
      "source": [
        "Now we can call BERT model and finally get embeddings."
      ]
    },
    {
      "cell_type": "code",
      "metadata": {
        "id": "xbI_5u3AlEFt"
      },
      "source": [
        "model = BertModel.from_pretrained('bert-base-uncased',\n",
        "                                  output_hidden_states = True, # Whether the model returns all hidden-states.\n",
        "                                  )\n",
        "model.eval();"
      ],
      "execution_count": null,
      "outputs": []
    },
    {
      "cell_type": "code",
      "metadata": {
        "id": "zhj427SijVU4"
      },
      "source": [
        "with torch.no_grad():\n",
        "\n",
        "    outputs = model(input_ids, segments_ids)\n",
        "\n",
        "    # Evaluating the model will return a different number of objects based on\n",
        "    # how it's  configured in the `from_pretrained` call earlier. In this case,\n",
        "    # becase we set `output_hidden_states = True`, the third item will be the\n",
        "    # hidden states from all layers. See the documentation for more details:\n",
        "    # https://huggingface.co/transformers/model_doc/bert.html#bertmodel\n",
        "    hidden_states = outputs[2]"
      ],
      "execution_count": null,
      "outputs": []
    },
    {
      "cell_type": "markdown",
      "metadata": {
        "id": "nCKyebgprKLG"
      },
      "source": [
        "Let's examine what we've got."
      ]
    },
    {
      "cell_type": "code",
      "metadata": {
        "id": "KRgeWRVHrRHK"
      },
      "source": [
        "print (\"Number of layers:\", len(hidden_states), \"  (initial embeddings + 12 BERT layers)\")\n",
        "print (\"Number of batches:\", len(hidden_states[0]))\n",
        "print (\"Number of tokens:\", len(hidden_states[0][0]))\n",
        "print (\"Number of hidden units:\", len(hidden_states[0][0][0]))\n"
      ],
      "execution_count": null,
      "outputs": []
    },
    {
      "cell_type": "code",
      "metadata": {
        "id": "t9ecIgL1mdox"
      },
      "source": [
        "# Concatenate the tensors for all layers. We use `stack` here to\n",
        "# create a new dimension in the tensor.\n",
        "token_embeddings = torch.stack(hidden_states, dim=0)\n",
        "\n",
        "token_embeddings.size()"
      ],
      "execution_count": null,
      "outputs": []
    },
    {
      "cell_type": "code",
      "metadata": {
        "id": "_YcTplZDq_Ip"
      },
      "source": [
        "# Swap dimensions, so we get tensors in format: [sentence, tokens, hidden layes, features]\n",
        "token_embeddings = token_embeddings.permute(1,2,0,3)\n",
        "\n",
        "token_embeddings.size()"
      ],
      "execution_count": null,
      "outputs": []
    },
    {
      "cell_type": "code",
      "metadata": {
        "id": "Hm6lbPc2s0k9"
      },
      "source": [
        "# we will use last four hidden layers to create each word embedding\n",
        "\n",
        "processed_embeddings = token_embeddings[:, :, 9:, :]\n",
        "processed_embeddings.shape"
      ],
      "execution_count": null,
      "outputs": []
    },
    {
      "cell_type": "code",
      "metadata": {
        "id": "q908hPTzxnMU"
      },
      "source": [
        "# Concatenate four layers for each token to create embeddings\n",
        "\n",
        "embeddings = torch.reshape(processed_embeddings, (4, 48, -1))\n",
        "embeddings.shape"
      ],
      "execution_count": null,
      "outputs": []
    },
    {
      "cell_type": "markdown",
      "metadata": {
        "id": "CgzGSE0UEfGK"
      },
      "source": [
        "Let's examine embeddings for the first sentence. Firstly we need to get ids of tokens we need to compare."
      ]
    },
    {
      "cell_type": "code",
      "metadata": {
        "id": "FbTQaukmzM1v"
      },
      "source": [
        "for i, token_str in enumerate(tokenized_texts[0]):\n",
        "  print (i, token_str)"
      ],
      "execution_count": null,
      "outputs": []
    },
    {
      "cell_type": "markdown",
      "metadata": {
        "id": "mmunweJ427pw"
      },
      "source": [
        "We can see that word 'king' is places at indexes 1 and 17. We will check distance between embeddings 1 and 17. Also, we will check if embedding for word 'arthur' is closer to king then word 'table'."
      ]
    },
    {
      "cell_type": "code",
      "metadata": {
        "id": "NDVo-mBtzi_3"
      },
      "source": [
        "from scipy.spatial.distance import cosine\n",
        "\n",
        "kings = cosine(embeddings[0][1], embeddings[0][17])\n",
        "king_table = cosine(embeddings[0][1], embeddings[0][46])\n",
        "king_archtur = cosine(embeddings[0][2], embeddings[0][1])\n",
        "\n",
        "print('Distance for two kings:  %.2f' % kings)\n",
        "print('Distance from king to table:  %.2f' % king_table)\n",
        "print('Distance from Archtur to king:  %.2f' % king_archtur)"
      ],
      "execution_count": null,
      "outputs": []
    },
    {
      "cell_type": "markdown",
      "metadata": {
        "id": "qmYn9mPB5hcr"
      },
      "source": [
        "So we see that embeddings for two 'kings' are quite similar but not same, and Archtur is closer to be a king than a table."
      ]
    },
    {
      "cell_type": "markdown",
      "metadata": {
        "id": "1RSA_l9h6Ftz"
      },
      "source": [
        "Things may be simplier with **[simplerepresentations](https://github.com/AliOsm/simplerepresentations)** module. This module does all the work we did earlier - extracts needed hidden states from BERT and creates embeddings in a few lines of code."
      ]
    },
    {
      "cell_type": "code",
      "metadata": {
        "id": "le0O7JeS62P8"
      },
      "source": [
        "!pip install simplerepresentations"
      ],
      "execution_count": null,
      "outputs": []
    },
    {
      "cell_type": "code",
      "metadata": {
        "id": "1T01bAY75Mcv"
      },
      "source": [
        "import torch\n",
        "from simplerepresentations import RepresentationModel\n",
        "torch.manual_seed(0)\n",
        "\n",
        "model_type = 'bert'\n",
        "model_name = 'bert-base-uncased'\n",
        "\n",
        "representation_model = RepresentationModel(\n",
        "\t\tmodel_type=model_type,\n",
        "\t\tmodel_name=model_name,\n",
        "\t\tbatch_size=4,\n",
        "\t\tmax_seq_length=48, # truncate sentences to be less than or equal to 48 tokens\n",
        "\t\tcombination_method='cat', # concatenate the last `last_hidden_to_use` hidden states\n",
        "\t\tlast_hidden_to_use=4 # use the last 4 hidden states to build tokens representations\n",
        "\t)\n",
        "\n",
        "text_a = sentences\n",
        "\n",
        "all_sentences_representations, all_tokens_representations = representation_model(text_a=text_a)\n",
        "\n",
        "print(all_sentences_representations.shape) # (4, 768) => (number of sentences, hidden size)\n",
        "print(all_tokens_representations.shape) # (4, 48, 3072) => (number of sentences, number of tokens, hidden size)"
      ],
      "execution_count": null,
      "outputs": []
    },
    {
      "cell_type": "markdown",
      "metadata": {
        "id": "H5hXmpV57wgh"
      },
      "source": [
        "Check distaces between Archtur, king and table."
      ]
    },
    {
      "cell_type": "code",
      "metadata": {
        "id": "lu1llFF27eXc"
      },
      "source": [
        "from scipy.spatial.distance import cosine\n",
        "\n",
        "kings = cosine(all_tokens_representations[0][1], all_tokens_representations[0][17])\n",
        "king_table = cosine(all_tokens_representations[0][1], all_tokens_representations[0][46])\n",
        "king_archtur = cosine(all_tokens_representations[0][2], all_tokens_representations[0][1])\n",
        "\n",
        "print('Distance for two kings:  %.2f' % kings)\n",
        "print('Distance from king to table:  %.2f' % king_table)\n",
        "print('Distance from Archtur to king:  %.2f' % king_archtur)"
      ],
      "execution_count": null,
      "outputs": []
    },
    {
      "cell_type": "markdown",
      "metadata": {
        "id": "w8M5HubwC1BX"
      },
      "source": [
        "Same results, less code."
      ]
    },
    {
      "cell_type": "markdown",
      "metadata": {
        "id": "qMhX6QOORrxq"
      },
      "source": [
        "## Conclusion\n",
        "\n",
        "I hope that after reading this article you have formed an idea of the current approaches to word embeddings and began to understand how to quickly implement these approaches in Python. The world of NLP is diverse and there are many more models and methods for embeddings. In my article I focused on the most common and those that we ourselves often use in our work. You can find additional information in the **References** section."
      ]
    },
    {
      "cell_type": "markdown",
      "metadata": {
        "id": "XxnDjaFYMolw"
      },
      "source": [
        "## References\n",
        "\n",
        "- [BERT Word Embeddings Tutorial](https://mccormickml.com/2019/05/14/BERT-word-embeddings-tutorial/)\n",
        "- [The Illustrated Transformer](http://jalammar.github.io/illustrated-transformer/)\n",
        "- [The Illustrated GPT-2 (Visualizing Transformer Language Models)](http://jalammar.github.io/illustrated-gpt2/)\n",
        "- [FROM Pre-trained Word Embeddings TO Pre-trained Language Models — Focus on BERT](https://towardsdatascience.com/from-pre-trained-word-embeddings-to-pre-trained-language-models-focus-on-bert-343815627598)\n",
        "- [ Make your own Rick Sanchez (bot) with Transformers and DialoGPT fine-tuning](https://towardsdatascience.com/make-your-own-rick-sanchez-bot-with-transformers-and-dialogpt-fine-tuning-f85e6d1f4e30)\n",
        "- [Playing with word vectors](https://medium.com/swlh/playing-with-word-vectors-308ab2faa519)\n",
        "- [Intuitive Guide to Understanding GloVe Embeddings](https://towardsdatascience.com/light-on-math-ml-intuitive-guide-to-understanding-glove-embeddings-b13b4f19c010)\n",
        "- [Word Embeddings in Python with Spacy and Gensim](https://www.shanelynn.ie/word-embeddings-in-python-with-spacy-and-gensim/)\n",
        "- [Brief review of word embedding families (2019) ](https://medium.com/analytics-vidhya/brief-review-of-word-embedding-families-2019-b2bbc601bbfe)\n",
        "- [Word embeddings: exploration, explanation, and exploitation (with code in Python)](https://towardsdatascience.com/word-embeddings-exploration-explanation-and-exploitation-with-code-in-python-5dac99d5d795)"
      ]
    },
    {
      "cell_type": "code",
      "metadata": {
        "id": "-IXkbDV1kUz7"
      },
      "source": [],
      "execution_count": null,
      "outputs": []
    }
  ]
}